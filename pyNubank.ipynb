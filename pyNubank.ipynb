{
 "cells": [
  {
   "cell_type": "markdown",
   "metadata": {},
   "source": [
    "# Acessando dados do Nubank usando Cognos Jupyter Notebook"
   ]
  },
  {
   "cell_type": "code",
   "execution_count": null,
   "metadata": {},
   "outputs": [],
   "source": [
    "#instalação da biblioteca:\n",
    "!pip install pynubank --user\n",
    "from pynubank import Nubank\n",
    "import getpass\n",
    "import pandas as pd\n",
    "import numpy as np\n",
    "\n",
    "# Diretório do COGNOS ANALYTICS:\n",
    "cm_folder = \".public_folders/pyNUBANK/\"\n",
    "\n",
    "nu = Nubank()\n",
    "uuid, qr_code = nu.get_qr_code()"
   ]
  },
  {
   "cell_type": "markdown",
   "metadata": {},
   "source": [
    "## 1) Autenticação"
   ]
  },
  {
   "cell_type": "markdown",
   "metadata": {},
   "source": [
    "### 1.1 CPF:"
   ]
  },
  {
   "cell_type": "code",
   "execution_count": null,
   "metadata": {},
   "outputs": [],
   "source": [
    "# Utilize o CPF sem pontos ou traços\n",
    "CPF  = input('Seu CPF usado no cadastro do site do Nubank:')"
   ]
  },
  {
   "cell_type": "markdown",
   "metadata": {},
   "source": [
    "### 1.2 SENHA: "
   ]
  },
  {
   "cell_type": "code",
   "execution_count": null,
   "metadata": {},
   "outputs": [],
   "source": [
    "# Utilize o CPF sem pontos ou traços\n",
    "SENHA = getpass.getpass(\"Digite a senha do site do Nubank:\")"
   ]
  },
  {
   "cell_type": "markdown",
   "metadata": {},
   "source": [
    "### 1.3 Authenticação de 2 fatores"
   ]
  },
  {
   "cell_type": "code",
   "execution_count": null,
   "metadata": {},
   "outputs": [],
   "source": [
    "from pynubank import Nubank\n",
    "nu = Nubank()\n",
    "uuid, qr_code = nu.get_qr_code()\n",
    "qr_code.print_ascii(invert=True)\n",
    "input('Após escanear o QRCode pressione enter para continuar')\n",
    "nu.authenticate_with_qr_code(CPF, SENHA, uuid)"
   ]
  },
  {
   "cell_type": "markdown",
   "metadata": {},
   "source": [
    "## 2) Detalhamento do Cartão de Crédito"
   ]
  },
  {
   "cell_type": "code",
   "execution_count": null,
   "metadata": {},
   "outputs": [],
   "source": [
    "# Lista de dicionários contendo todas as transações de seu cartão de crédito\n",
    "card_statements = nu.get_card_statements()\n",
    "\n",
    "df_credito = pd.DataFrame(card_statements)\n",
    "df_credito['time'] = pd.to_datetime(df_credito['time'])\n",
    "## Concatenação com o df_credito.details formatado\n",
    "df_credito_full = pd.concat([df_credito,pd.io.json.json_normalize(df_credito.details)], axis=1)\n",
    "df_credito_full['amount'] = (df_credito_full['amount'] / 100).map('{:.2f}'.format)\n",
    "df_credito_full['amount_without_iof'] = (df_credito_full['amount_without_iof'] / 100).map('{:.2f}'.format)\n",
    "\n",
    "# Enviar dados para o COGNOS ANALYTICS:\n",
    "file = \"cartao_credito\"\n",
    "CADataConnector.write_data(df_credito_full, path=cm_folder+file, mode=\"w\")"
   ]
  },
  {
   "cell_type": "markdown",
   "metadata": {},
   "source": [
    "## 3) Faturas do cartão de crédito"
   ]
  },
  {
   "cell_type": "code",
   "execution_count": null,
   "metadata": {},
   "outputs": [],
   "source": [
    "bills = nu.get_bills()\n",
    "df_faturas = pd.DataFrame(bills)\n",
    "df_faturas_2 = pd.io.json.json_normalize((df_faturas.summary))\n",
    "df_faturas_full = pd.concat([df_faturas['state'],df_faturas_2], axis=1)\n",
    "\n",
    "df_faturas_full['open_date'] = pd.to_datetime(df_faturas_full['open_date'])\n",
    "df_faturas_full['total_balance'] = (df_faturas_full['total_balance'] / 100).map('{:.2f}'.format)\n",
    "df_faturas_full['total_cumulative'] = (df_faturas_full['total_cumulative'] / 100).map('{:.2f}'.format)\n",
    "df_faturas_full['past_balance'] = (df_faturas_full['past_balance'] / 100).map('{:.2f}'.format)\n",
    "\n",
    "# Enviar dados para o COGNOS ANALYTICS:\n",
    "file = \"cartao_faturas\"\n",
    "CADataConnector.write_data(df_faturas_full, path=cm_folder+file, mode=\"w\")"
   ]
  },
  {
   "cell_type": "markdown",
   "metadata": {},
   "source": [
    "## 4) Detalhamento da NuConta"
   ]
  },
  {
   "cell_type": "code",
   "execution_count": null,
   "metadata": {},
   "outputs": [],
   "source": [
    "transactions = nu.get_account_statements()\n",
    "df_conta = pd.DataFrame(transactions)\n",
    "df_conta['postDate'] = pd.to_datetime(df_conta['postDate'])\n",
    "\n",
    "conditions = [\n",
    "    (df_conta.title == 'Compra no débito'),\n",
    "    (df_conta.title == 'Depósito recebido'),\n",
    "    (df_conta.title == 'Pagamento da fatura'),\n",
    "    (df_conta.title == 'Transferência enviada'),\n",
    "    (df_conta.title == 'Transferência recebida')]\n",
    "values = [df_conta.amount * -1, df_conta.amount, df_conta.amount * -1, df_conta.amount * -1, df_conta.amount]\n",
    "df_conta['balanco'] = np.select(conditions, values)\n",
    "\n",
    "\n",
    "# Enviar dados para o COGNOS ANALYTICS:\n",
    "file = \"conta\"\n",
    "CADataConnector.write_data(df_conta, path=cm_folder+file, mode=\"w\")"
   ]
  }
 ],
 "metadata": {
  "interpreter": {
   "hash": "d89f8d11771419e0b9d426ad87848d936934b915f105fc3728dd5199836a861c"
  },
  "kernelspec": {
   "display_name": "Python 3.7.1 64-bit ('TESTE1': conda)",
   "language": "python",
   "name": "python3"
  },
  "language_info": {
   "codemirror_mode": {
    "name": "ipython",
    "version": 3
   },
   "file_extension": ".py",
   "mimetype": "text/x-python",
   "name": "python",
   "nbconvert_exporter": "python",
   "pygments_lexer": "ipython3",
   "version": "3.7.1"
  },
  "orig_nbformat": 4
 },
 "nbformat": 4,
 "nbformat_minor": 2
}
