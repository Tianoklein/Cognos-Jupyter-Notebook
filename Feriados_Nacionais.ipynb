{
 "metadata": {
  "language_info": {
   "codemirror_mode": {
    "name": "ipython",
    "version": 3
   },
   "file_extension": ".py",
   "mimetype": "text/x-python",
   "name": "python",
   "nbconvert_exporter": "python",
   "pygments_lexer": "ipython3",
   "version": 3
  },
  "orig_nbformat": 2,
  "kernelspec": {
   "name": "python_defaultSpec_1596321874580",
   "display_name": "Python 3.7.6 64-bit ('TESTE1': conda)"
  }
 },
 "nbformat": 4,
 "nbformat_minor": 2,
 "cells": [
  {
   "cell_type": "code",
   "execution_count": 2,
   "metadata": {},
   "outputs": [
    {
     "output_type": "execute_result",
     "data": {
      "text/plain": "          Data Dia da Semana                                     Feriado\n931 2078-09-07  quarta-feira                     Independência do Brasil\n932 2078-10-12  quarta-feira  Nossa Sr.a Aparecida - Padroeira do Brasil\n933 2078-11-02  quarta-feira                                     Finados\n934 2078-11-15   terça-feira                    Proclamação da República\n935 2078-12-25  quarta-feira                                       Natal",
      "text/html": "<div>\n<style scoped>\n    .dataframe tbody tr th:only-of-type {\n        vertical-align: middle;\n    }\n\n    .dataframe tbody tr th {\n        vertical-align: top;\n    }\n\n    .dataframe thead th {\n        text-align: right;\n    }\n</style>\n<table border=\"1\" class=\"dataframe\">\n  <thead>\n    <tr style=\"text-align: right;\">\n      <th></th>\n      <th>Data</th>\n      <th>Dia da Semana</th>\n      <th>Feriado</th>\n    </tr>\n  </thead>\n  <tbody>\n    <tr>\n      <th>931</th>\n      <td>2078-09-07</td>\n      <td>quarta-feira</td>\n      <td>Independência do Brasil</td>\n    </tr>\n    <tr>\n      <th>932</th>\n      <td>2078-10-12</td>\n      <td>quarta-feira</td>\n      <td>Nossa Sr.a Aparecida - Padroeira do Brasil</td>\n    </tr>\n    <tr>\n      <th>933</th>\n      <td>2078-11-02</td>\n      <td>quarta-feira</td>\n      <td>Finados</td>\n    </tr>\n    <tr>\n      <th>934</th>\n      <td>2078-11-15</td>\n      <td>terça-feira</td>\n      <td>Proclamação da República</td>\n    </tr>\n    <tr>\n      <th>935</th>\n      <td>2078-12-25</td>\n      <td>quarta-feira</td>\n      <td>Natal</td>\n    </tr>\n  </tbody>\n</table>\n</div>"
     },
     "metadata": {},
     "execution_count": 2
    }
   ],
   "source": [
    "#### FERIADOS NACIONAIS\n",
    "import pandas as pd\n",
    "local='https://github.com/Tianoklein/Cognos-Jupyter-Notebook/raw/master/feriados_nacionais.xls'\n",
    "feriados_nacionais = pd.read_excel(local, index_col=0).reset_index()\n",
    "feriados_nacionais.tail()"
   ]
  },
  {
   "cell_type": "code",
   "execution_count": null,
   "metadata": {},
   "outputs": [],
   "source": [
    "cm_folder = \".public_folders/Dados_Externos/Feriados\"\n",
    "CADataConnector.write_data(feriados_nacionais, path=cm_folder, mode=\"w\")"
   ]
  }
 ]
}